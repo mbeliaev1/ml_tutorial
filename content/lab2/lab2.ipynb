{
 "cells": [
  {
   "cell_type": "markdown",
   "metadata": {},
   "source": [
    "## Lab 2: Introduction to Supervised Learning\n",
    "\n",
    "### Overview\n",
    "This lab will provide a brief introduction to *supervised* learning through two example problems: *classification* and *regression*. For this, we will employ two similair models: logistic regression and linear regression, respectively. Although this can be implemented effectively using pre-built functions from **scipy**: [logistic](https://docs.scipy.org/doc/scipy/reference/generated/scipy.stats.logistic.html) & [linregress](https://docs.scipy.org/doc/scipy/reference/generated/scipy.stats.linregress.html), we will code them from scratch by implementing gradient descent with **numpy**.\n",
    "\n",
    "#### I. Data Processing - MNIST Dataset\n",
    "\n",
    "#### II. Logistic Regression (2 classes of MNIST digits)\n",
    "- Sigmoid\n",
    "- Negative Log Likelihood\n",
    "- Using Gradient Descent to solve Logistic Regression\n",
    "\n",
    "#### III. Linear Regression (USA housing data)\n",
    "- Mean Squared Error\n",
    "- Using Gradient Descent to solve Linear Regression\n",
    "- Closed form solution of Linear Regression\n",
    "\n",
    "### Assignment \n",
    "You are required to provide the code for *four* questions throughout the notebook:\n",
    "- **Question 1**: Implementing Logistic Regression - Gradient Descent\n",
    "- **Question 2**: Data Processing - Housing\n",
    "- **Question 3**: Implementing Linear Regression - Derivation + Loss + Gradient Descent  \n",
    "\n"
   ]
  },
  {
   "cell_type": "code",
   "execution_count": 1,
   "metadata": {},
   "outputs": [],
   "source": [
    "import numpy as np\n",
    "import os\n",
    "import pandas as pd\n",
    "\n",
    "import matplotlib.pyplot as plt\n",
    "from matplotlib import rc\n",
    "import matplotlib as mpl\n",
    "# colors used\n",
    "ORANGE = '#FF9132'\n",
    "TEAL = '#0598B0'\n",
    "GREEN = '#008F00'\n",
    "PURPLE = '#8A2BE2'\n",
    "GRAY = '#969696'\n",
    "FIG_WIDTH = 4\n",
    "FIG_HEIGHT = 3\n",
    "\n",
    "plt.rcParams.update({\n",
    "    \"text.usetex\": False,\n",
    "    \"font.size\": 10,\n",
    "    \"axes.titlesize\": 10,\n",
    "    \"axes.spines.right\": False,\n",
    "    \"axes.spines.top\": False,\n",
    "    \"lines.linewidth\": 2\n",
    "})\n"
   ]
  },
  {
   "cell_type": "markdown",
   "metadata": {},
   "source": [
    "## I. Data Processing - MNIST Dataset\n",
    "We will briefly go over *some* common steps of data processing in machine learning, where the example we will use is the MNIST dataset. Generally speaking, these steps often involve loading, cleaning, normalizing, and splitting the data into two parts, used for training and testing our learned model. This last step is crucial, as we want our learned model to *generalize* to unseen data, instead of *overfitting* on the provided dataset. [Chapter 5](https://www.deeplearningbook.org/contents/ml.html) of the Deep Learning Book gives a good summary of this paradigm and its relationship to the bias-variance trade-off commonly considered when building Machine Learning models. However, we will not discuss such details in this introductary lab."
   ]
  },
  {
   "cell_type": "markdown",
   "metadata": {},
   "source": [
    "[MNIST](http://yann.lecun.com/exdb/mnist/) is a well known dataset of handwritten digits containing 60,000 training images and 10,000 testing images. The dataset comes labeled, with a total of 10 classes (one for each digit.) For our task, I have conveniently provided a subset of the data corresponding to the digits 6 and 9. My intuition is that these two digits should be easy to distinguish between..., can you guess why?\n",
    "\n",
    "We can load the data from a csv file using the popular [pandas](https://pandas.pydata.org/) library. The first column is used to denote the label, 0 or 1 for 6 or 9 respectively. The remaining 784 columns denote a floating point value representing the grayscale pixel value of the image. Since there are 28*28 pixels per image in the original dataset, these values represent the flattened (row by row) image.  "
   ]
  },
  {
   "cell_type": "code",
   "execution_count": 2,
   "metadata": {},
   "outputs": [
    {
     "name": "stdout",
     "output_type": "stream",
     "text": [
      "/home/mark/Documents/code/ml_tutorial/content/lab2\n",
      "0\n",
      "0.0    2505\n",
      "1.0    2495\n",
      "Name: count, dtype: int64\n"
     ]
    },
    {
     "data": {
      "text/html": [
       "<div>\n",
       "<style scoped>\n",
       "    .dataframe tbody tr th:only-of-type {\n",
       "        vertical-align: middle;\n",
       "    }\n",
       "\n",
       "    .dataframe tbody tr th {\n",
       "        vertical-align: top;\n",
       "    }\n",
       "\n",
       "    .dataframe thead th {\n",
       "        text-align: right;\n",
       "    }\n",
       "</style>\n",
       "<table border=\"1\" class=\"dataframe\">\n",
       "  <thead>\n",
       "    <tr style=\"text-align: right;\">\n",
       "      <th></th>\n",
       "      <th>0</th>\n",
       "      <th>1</th>\n",
       "      <th>2</th>\n",
       "      <th>3</th>\n",
       "      <th>4</th>\n",
       "      <th>5</th>\n",
       "      <th>6</th>\n",
       "      <th>7</th>\n",
       "      <th>8</th>\n",
       "      <th>9</th>\n",
       "      <th>...</th>\n",
       "      <th>775</th>\n",
       "      <th>776</th>\n",
       "      <th>777</th>\n",
       "      <th>778</th>\n",
       "      <th>779</th>\n",
       "      <th>780</th>\n",
       "      <th>781</th>\n",
       "      <th>782</th>\n",
       "      <th>783</th>\n",
       "      <th>784</th>\n",
       "    </tr>\n",
       "  </thead>\n",
       "  <tbody>\n",
       "    <tr>\n",
       "      <th>0</th>\n",
       "      <td>1.0</td>\n",
       "      <td>-0.424213</td>\n",
       "      <td>-0.424213</td>\n",
       "      <td>-0.424213</td>\n",
       "      <td>-0.424213</td>\n",
       "      <td>-0.424213</td>\n",
       "      <td>-0.424213</td>\n",
       "      <td>-0.424213</td>\n",
       "      <td>-0.424213</td>\n",
       "      <td>-0.424213</td>\n",
       "      <td>...</td>\n",
       "      <td>-0.424213</td>\n",
       "      <td>-0.424213</td>\n",
       "      <td>-0.424213</td>\n",
       "      <td>-0.424213</td>\n",
       "      <td>-0.424213</td>\n",
       "      <td>-0.424213</td>\n",
       "      <td>-0.424213</td>\n",
       "      <td>-0.424213</td>\n",
       "      <td>-0.424213</td>\n",
       "      <td>-0.424213</td>\n",
       "    </tr>\n",
       "    <tr>\n",
       "      <th>1</th>\n",
       "      <td>0.0</td>\n",
       "      <td>-0.424213</td>\n",
       "      <td>-0.424213</td>\n",
       "      <td>-0.424213</td>\n",
       "      <td>-0.424213</td>\n",
       "      <td>-0.424213</td>\n",
       "      <td>-0.424213</td>\n",
       "      <td>-0.424213</td>\n",
       "      <td>-0.424213</td>\n",
       "      <td>-0.424213</td>\n",
       "      <td>...</td>\n",
       "      <td>-0.424213</td>\n",
       "      <td>-0.424213</td>\n",
       "      <td>-0.424213</td>\n",
       "      <td>-0.424213</td>\n",
       "      <td>-0.424213</td>\n",
       "      <td>-0.424213</td>\n",
       "      <td>-0.424213</td>\n",
       "      <td>-0.424213</td>\n",
       "      <td>-0.424213</td>\n",
       "      <td>-0.424213</td>\n",
       "    </tr>\n",
       "    <tr>\n",
       "      <th>2</th>\n",
       "      <td>0.0</td>\n",
       "      <td>-0.424213</td>\n",
       "      <td>-0.424213</td>\n",
       "      <td>-0.424213</td>\n",
       "      <td>-0.424213</td>\n",
       "      <td>-0.424213</td>\n",
       "      <td>-0.424213</td>\n",
       "      <td>-0.424213</td>\n",
       "      <td>-0.424213</td>\n",
       "      <td>-0.424213</td>\n",
       "      <td>...</td>\n",
       "      <td>-0.424213</td>\n",
       "      <td>-0.424213</td>\n",
       "      <td>-0.424213</td>\n",
       "      <td>-0.424213</td>\n",
       "      <td>-0.424213</td>\n",
       "      <td>-0.424213</td>\n",
       "      <td>-0.424213</td>\n",
       "      <td>-0.424213</td>\n",
       "      <td>-0.424213</td>\n",
       "      <td>-0.424213</td>\n",
       "    </tr>\n",
       "    <tr>\n",
       "      <th>3</th>\n",
       "      <td>0.0</td>\n",
       "      <td>-0.424213</td>\n",
       "      <td>-0.424213</td>\n",
       "      <td>-0.424213</td>\n",
       "      <td>-0.424213</td>\n",
       "      <td>-0.424213</td>\n",
       "      <td>-0.424213</td>\n",
       "      <td>-0.424213</td>\n",
       "      <td>-0.424213</td>\n",
       "      <td>-0.424213</td>\n",
       "      <td>...</td>\n",
       "      <td>-0.424213</td>\n",
       "      <td>-0.424213</td>\n",
       "      <td>-0.424213</td>\n",
       "      <td>-0.424213</td>\n",
       "      <td>-0.424213</td>\n",
       "      <td>-0.424213</td>\n",
       "      <td>-0.424213</td>\n",
       "      <td>-0.424213</td>\n",
       "      <td>-0.424213</td>\n",
       "      <td>-0.424213</td>\n",
       "    </tr>\n",
       "    <tr>\n",
       "      <th>4</th>\n",
       "      <td>1.0</td>\n",
       "      <td>-0.424213</td>\n",
       "      <td>-0.424213</td>\n",
       "      <td>-0.424213</td>\n",
       "      <td>-0.424213</td>\n",
       "      <td>-0.424213</td>\n",
       "      <td>-0.424213</td>\n",
       "      <td>-0.424213</td>\n",
       "      <td>-0.424213</td>\n",
       "      <td>-0.424213</td>\n",
       "      <td>...</td>\n",
       "      <td>-0.424213</td>\n",
       "      <td>-0.424213</td>\n",
       "      <td>-0.424213</td>\n",
       "      <td>-0.424213</td>\n",
       "      <td>-0.424213</td>\n",
       "      <td>-0.424213</td>\n",
       "      <td>-0.424213</td>\n",
       "      <td>-0.424213</td>\n",
       "      <td>-0.424213</td>\n",
       "      <td>-0.424213</td>\n",
       "    </tr>\n",
       "  </tbody>\n",
       "</table>\n",
       "<p>5 rows × 785 columns</p>\n",
       "</div>"
      ],
      "text/plain": [
       "   0         1         2         3         4         5         6         7    \\\n",
       "0  1.0 -0.424213 -0.424213 -0.424213 -0.424213 -0.424213 -0.424213 -0.424213   \n",
       "1  0.0 -0.424213 -0.424213 -0.424213 -0.424213 -0.424213 -0.424213 -0.424213   \n",
       "2  0.0 -0.424213 -0.424213 -0.424213 -0.424213 -0.424213 -0.424213 -0.424213   \n",
       "3  0.0 -0.424213 -0.424213 -0.424213 -0.424213 -0.424213 -0.424213 -0.424213   \n",
       "4  1.0 -0.424213 -0.424213 -0.424213 -0.424213 -0.424213 -0.424213 -0.424213   \n",
       "\n",
       "        8         9    ...       775       776       777       778       779  \\\n",
       "0 -0.424213 -0.424213  ... -0.424213 -0.424213 -0.424213 -0.424213 -0.424213   \n",
       "1 -0.424213 -0.424213  ... -0.424213 -0.424213 -0.424213 -0.424213 -0.424213   \n",
       "2 -0.424213 -0.424213  ... -0.424213 -0.424213 -0.424213 -0.424213 -0.424213   \n",
       "3 -0.424213 -0.424213  ... -0.424213 -0.424213 -0.424213 -0.424213 -0.424213   \n",
       "4 -0.424213 -0.424213  ... -0.424213 -0.424213 -0.424213 -0.424213 -0.424213   \n",
       "\n",
       "        780       781       782       783       784  \n",
       "0 -0.424213 -0.424213 -0.424213 -0.424213 -0.424213  \n",
       "1 -0.424213 -0.424213 -0.424213 -0.424213 -0.424213  \n",
       "2 -0.424213 -0.424213 -0.424213 -0.424213 -0.424213  \n",
       "3 -0.424213 -0.424213 -0.424213 -0.424213 -0.424213  \n",
       "4 -0.424213 -0.424213 -0.424213 -0.424213 -0.424213  \n",
       "\n",
       "[5 rows x 785 columns]"
      ]
     },
     "execution_count": 2,
     "metadata": {},
     "output_type": "execute_result"
    }
   ],
   "source": [
    "cwd = os.getcwd()\n",
    "# display your current working directory\n",
    "print(cwd)\n",
    "# read in the mnist dataset\n",
    "mnist_path = cwd + '/data/mnist.csv'\n",
    "df = pd.read_csv(mnist_path, header=None)\n",
    "print(df[0].value_counts())\n",
    "df.head()"
   ]
  },
  {
   "cell_type": "markdown",
   "metadata": {},
   "source": [
    "A quick observation shows us that the dataset contains 5000 digits, with 2505 being 6, and 2495 being 9. \n",
    "\n",
    "We visualize some of the samples below:"
   ]
  },
  {
   "cell_type": "code",
   "execution_count": 3,
   "metadata": {},
   "outputs": [],
   "source": [
    "def imshow_mnist(img, labels):\n",
    "    # -1 is used to imply a dimension \n",
    "    img = img.reshape(-1,28)\n",
    "    plt.imshow(img, cmap='gray')\n",
    "    ticks = np.arange(14,img.shape[0],28)\n",
    "    plt.yticks(ticks=ticks ,labels=labels)\n",
    "    plt.xticks([])\n",
    "    plt.show()"
   ]
  },
  {
   "cell_type": "markdown",
   "metadata": {},
   "source": [
    "[Lambda expressions](https://docs.python.org/3/tutorial/controlflow.html) can be useful in python when we want to define small expressions. "
   ]
  },
  {
   "cell_type": "code",
   "execution_count": 4,
   "metadata": {},
   "outputs": [
    {
     "name": "stdout",
     "output_type": "stream",
     "text": [
      "[6 9 9]\n"
     ]
    }
   ],
   "source": [
    "get_label = lambda x : 6 + 3*x\n",
    "print(get_label(np.array([0,1,1])))"
   ]
  },
  {
   "cell_type": "code",
   "execution_count": 5,
   "metadata": {},
   "outputs": [
    {
     "data": {
      "image/png": "[encoded data removed]",
      "text/plain": [
       "<Figure size 640x480 with 1 Axes>"
      ]
     },
     "metadata": {},
     "output_type": "display_data"
    }
   ],
   "source": [
    "# split the first 4 rows into image (x) and label (y)\n",
    "x, y = df[0:4].to_numpy()[:,1:], df[0:4].to_numpy()[:,0] \n",
    "imshow_mnist(x,get_label(y))"
   ]
  },
  {
   "cell_type": "markdown",
   "metadata": {},
   "source": [
    "We would like to split the dataset into two parts, keeping 20% of the data for testing our model. Since we want the distribution of both datasets to be the same (ratio of labels), we need to do this with care. While randomly sampling on such a large dataset will suffice, we can use pandas built in methods to make our job easier. Furhtermore, we load the stratified dataset into a python dictionary for later use. "
   ]
  },
  {
   "cell_type": "code",
   "execution_count": 6,
   "metadata": {},
   "outputs": [
    {
     "name": "stdout",
     "output_type": "stream",
     "text": [
      "Dictionary contains the following: \n",
      "\n",
      "x_train:\n",
      "\t<class 'numpy.ndarray'>\n",
      "\t(4000, 784)\n",
      "x_test:\n",
      "\t<class 'numpy.ndarray'>\n",
      "\t(1000, 784)\n",
      "y_train:\n",
      "\t<class 'numpy.ndarray'>\n",
      "\t(4000,)\n",
      "y_test:\n",
      "\t<class 'numpy.ndarray'>\n",
      "\t(1000,)\n"
     ]
    }
   ],
   "source": [
    "# stratify\n",
    "def train_test_split(df, test_size=0.2):\n",
    "    shuffled_df = df.sample(frac=1).reset_index(drop=True)\n",
    "    test_index = int(len(df) * test_size)\n",
    "    test_df = shuffled_df[:test_index]\n",
    "    train_df = shuffled_df[test_index:]\n",
    "    return train_df, test_df\n",
    "\n",
    "# split into train and test, keeping data in pandas format\n",
    "train_df, test_df = train_test_split(df, test_size=0.2)\n",
    "\n",
    "# load into dicionary converting to numpy arrays\n",
    "data = {}\n",
    "data[\"x_train\"] = train_df.to_numpy()[:,1:]\n",
    "data[\"x_test\"] = test_df.to_numpy()[:,1:]\n",
    "data[\"y_train\"] = train_df.to_numpy()[:,0]\n",
    "data[\"y_test\"] = test_df.to_numpy()[:,0]\n",
    "\n",
    "print(\"Dictionary contains the following: \\n\")\n",
    "for key, value in data.items():\n",
    "    print(f\"{key}:\\n\\t{type(value)}\\n\\t{value.shape}\")\n"
   ]
  },
  {
   "cell_type": "markdown",
   "metadata": {},
   "source": [
    "## II. Logistic Regression - Binary Classification of MNIST digits\n",
    "\n",
    "Logistic Regression is a classification algorithm used to differentiate data into discrete classes. The simplest form of this algorithm is the binary setting, where we have only two classes, $0$ and $1$. \n",
    "\n",
    "Given a dataset $\\mathcal{X}=\\{x_1,x_2,\\ldots,x_N\\}$ of $d$-dimensional vectors $x$, we have a corresponding set of labels $\\mathcal{Y}=\\{y_1,y_2,\\ldots,y_N\\}$ where  $y_i\\in\\{0,1\\}$. Our job is to build a classifier $h_{\\theta}$ that can calculate the probability a given $x$  belongs to class $1$, sometimes thought of as \"success\". We can think of this probability as a score, where our classifier outputs an estimate $0\\leq h_{\\theta}(x)\\leq1$. So what is $\\theta$ and what kind of function is our classifier $h_{\\theta}$?\n",
    "\n",
    "$$h_{\\theta}=\\sigma(\\theta^\\intercal x).$$\n",
    "\n",
    "We can see that $\\theta$ is a $d$-dimensional vector that maps our input vector $x$ to a real number. This is done in linear regression to map our data to a continous value, but since we want a probability of belonging to a given class we can not stop here. This is where the sigmoid function comes in, we use it to map this value between zero and one. \n",
    "$$\\sigma(x)=\\frac{1}{1+e^{-x}}$$\n",
    "\n",
    "Why would such a function be used here, let's take a look at it. "
   ]
  },
  {
   "cell_type": "code",
   "execution_count": 7,
   "metadata": {},
   "outputs": [],
   "source": [
    "def _positive_sigmoid(x):\n",
    "    \"standard sigmoid equation\"\n",
    "    return 1 / (1 + np.exp(-x))\n",
    "\n",
    "\n",
    "def _negative_sigmoid(x):\n",
    "    \"equiv to standard equation, but multiply num and denom by e^x\"\n",
    "    # Cache exp so you won't have to calculate it twice\n",
    "    exp = np.exp(x)\n",
    "    return exp / (exp + 1)\n",
    "\n",
    "\n",
    "def sigmoid(x):\n",
    "    \"numerically stable sigmoid to avoid exponential overflow\"\n",
    "    positive = x >= 0\n",
    "    # Boolean array inversion\n",
    "    negative = ~positive\n",
    "\n",
    "    result = np.empty_like(x, dtype=np.float64)\n",
    "    result[positive] = _positive_sigmoid(x[positive])\n",
    "    result[negative] = _negative_sigmoid(x[negative])\n",
    "\n",
    "    return result"
   ]
  },
  {
   "cell_type": "markdown",
   "metadata": {},
   "source": [
    "Play around with the x_min, x_max values below and see what it looks like.\n",
    "\n",
    "\n",
    "We can see that it is quite sensative to the range, with its behaviour going from a step function to a line. "
   ]
  },
  {
   "cell_type": "code",
   "execution_count": 8,
   "metadata": {},
   "outputs": [
    {
     "data": {
      "image/png": "[encoded data removed]",
      "text/plain": [
       "<Figure size 400x300 with 1 Axes>"
      ]
     },
     "metadata": {},
     "output_type": "display_data"
    }
   ],
   "source": [
    "x_min, x_max = -10, 10\n",
    "# x_min, x_max = -1,1\n",
    "# x_min, x_max = -1000,1000\n",
    "\n",
    "x = np.arange(x_min,x_max,0.01)\n",
    "\n",
    "fig, axs = plt.subplots(1,1,figsize=(FIG_WIDTH,FIG_HEIGHT))\n",
    "axs.plot(x,sigmoid(x),color=PURPLE)\n",
    "plt.title('Sigmoid(x)')\n",
    "axs.set_xlabel('x')\n",
    "axs.set_ylabel('probability')\n",
    "axs.set_xlim(x_min,x_max)\n",
    "axs.set_ylim(0,1)\n",
    "axs.set_yticks([0,0.5,1])\n",
    "axs.grid()\n",
    "plt.show()"
   ]
  },
  {
   "cell_type": "markdown",
   "metadata": {},
   "source": [
    "The sigmoid function shown above outputs a probability value between $0$ and $1$ given a real value as an input. In the scope of binary logistic regression, our input is some data sample $x\\in\\mathcal{X}$, which has a corresponding true label $y$. We can think of the overall classifier as such:\n",
    "$$\n",
    "\\begin{align} \n",
    "h_{\\theta}(x) &= P(y=1|x,\\theta),\\\\\n",
    "1-h_{\\theta}(x) &= P(y=0|x,\\theta),\\\\\n",
    "\\end{align}\n",
    "$$\n",
    "where we predict that our data sample $x$ is in class $y=1$ if $h_{\\theta}(x)\\geq 0.5$.\n",
    "\n",
    "How would we train such a classifier, or better yet, how do we choose $\\theta$ so that our classifier is as best as it can be? If we knew how $x$ was distributed based on the label, we can solve this problem exactly using Bayes rule and what we  have learned about the Maximum Likelihood Estimate. But in this case, we are not given any information on how $x$ is distributed, and hence must learn the right $\\theta$ some other way. To do this, we must first build a metric that desides how good a given choice of $\\theta$ is at classifying our data. A general metric is shown below:\n",
    "\n",
    "$$\n",
    "J(\\theta) = \\frac{1}{N}\\sum_{i=1}^{N}cost(h_{\\theta}(x_i),y_i)\n",
    "$$\n",
    "\n",
    "So given a datset $\\mathcal{X}$, we can sum over the individual data points $x_i$, checking how close our predicted label $h_{\\theta}(x_i)$ is to the true target $y_i$ for each data point. You can see that this depends on not only the chosen value of $\\theta$, but also the dataset $\\mathcal{X}$. What should the cost be in this expression? Since we are working with probability values we use the log likelihood loss function, where:\n",
    "$$\n",
    "cost(h_{\\theta}(x),y)= \\begin{cases} -log(h_{\\theta}(x)) \\ &\\text{if} \\ y=1 \\\\ -log(1-h_{\\theta}(x)) \\ &\\text{if} \\ y=0  \\end{cases}\n",
    "$$\n",
    "\n",
    "\n",
    "The intuition here is that the log function discounts greatly if we are far away from the true label, and less so when we are close. But this is not so convenient for us, as we do not want to deal with this conditional switching in our overall loss function $J(\\theta)$. Luckily, a simpler cost function can be defined, that still has the same value as the expression above:\n",
    "$$\n",
    "cost(h_{\\theta}(x),y)= -y log(h_{\\theta}(x)) - (1-y)log(1-h_{\\theta}(x))\n",
    "$$\n",
    "\n",
    "Your first task is to construct the defined loss function, $J(\\theta)$, in the cell below. Remember that $J$ acts on a given dataset $\\mathcal{X}$. Sometimes it is easier to think of our dataset as an $N$ by $d$ matrix, since this is how we work with it in python/numpy. \n",
    "\n",
    "$$\n",
    "X=\n",
    "\\begin{bmatrix}\n",
    "x_0\\\\\n",
    "x_1\\\\\n",
    "\\vdots\\\\\n",
    "x_N\n",
    "\\end{bmatrix}\n",
    "$$\n",
    "\n",
    "Remember that $N$ is the size of the dataset, and $d$ is the dimension of each data sample $x$. Since MNIST is a dataset of images, we want to flatten the image vectors before passing them along to our loss function. "
   ]
  },
  {
   "cell_type": "code",
   "execution_count": 9,
   "metadata": {},
   "outputs": [],
   "source": [
    "def compute_loss(x, y, theta):\n",
    "    '''\n",
    "    Computes the Negative Log-Likelihood cost\n",
    "    Inputs:\n",
    "        x     - np.array of MNIST digits size (N,28,28) or (28,28)\n",
    "        y     - np.array of labels 0 for 'six' and 1 for 'nine'\n",
    "        theta - np.array of the parameter vector we want to learn\n",
    "\n",
    "    Tip: to avoid log(0), we add a small scalar value \n",
    "    '''\n",
    "    h = sigmoid(np.dot(x.reshape(-1,28*28),theta))\n",
    "    m = len(h)\n",
    "    epsilon = 1e-11\n",
    "    cost = (1/m)*np.sum((-(y*np.log(h+epsilon))-((1-y)*np.log(1-h+epsilon))))\n",
    "    return cost"
   ]
  },
  {
   "cell_type": "markdown",
   "metadata": {},
   "source": [
    "After building the above function, lets check that it works both on individual data samples from our MNIST dataset, and for subsets of the dataset. "
   ]
  },
  {
   "cell_type": "code",
   "execution_count": 10,
   "metadata": {},
   "outputs": [
    {
     "name": "stdout",
     "output_type": "stream",
     "text": [
      "25.328436022934504\n"
     ]
    }
   ],
   "source": [
    "rng = np.random.default_rng(seed=123)\n",
    "theta = rng.random(28*28)\n",
    "x = data['x_train'][0]\n",
    "y = data['y_train'][0]\n",
    "print(compute_loss(x,y,theta))"
   ]
  },
  {
   "cell_type": "code",
   "execution_count": 11,
   "metadata": {},
   "outputs": [
    {
     "name": "stdout",
     "output_type": "stream",
     "text": [
      "12.60296625853482\n"
     ]
    }
   ],
   "source": [
    "x = data['x_train']\n",
    "y = data['y_train']\n",
    "print(compute_loss(x,y,theta))"
   ]
  },
  {
   "cell_type": "markdown",
   "metadata": {},
   "source": [
    "Given our fancy loss function $J(\\theta)$, how do we now use it to choose $\\theta^*$, the best $\\theta$. We want a $\\theta^*$ that minimizes our loss function when evaluated over the entire dataset, which in our case is the training set provided. \n",
    "\n",
    "$$\n",
    "\\theta^* = \\arg\\min_{\\theta} J(\\theta)\n",
    "$$\n",
    "\n",
    "Okay so lets just use what we know from calculus, we take the derivative of $J$ with respsect to $\\theta$, set that to zero and then... oh wait. If you go about this route, you will see that unless we had a closed form differentiable expression for $P(y|x)$, we can not solve the problem this way. Instead we rely on a famous numerical technique known as Gradient Descent (GD). \n",
    "\n",
    "GD assumes the given function is convex (you can think of that as meaning it only has one global minimum), and goes about finding the minimum value of the function. Essentially you can think of it as taking steps in the direction of the negative derivative (downhill), until it reaches the bottom of our function. So at every iteration of GD, we can update our current estimate of the paramater $\\theta$, by taking a step in the direction of the negative derivate (gradient) of $J(\\theta)$:\n",
    "\n",
    "$$\n",
    "\\theta : \\theta -\\alpha \\frac{\\delta J}{\\delta\\theta}J(\\theta),\n",
    "$$\n",
    "\n",
    "where $\\alpha$ is the size of the steps we take. Intuitively, GD asks \"which elements of $\\theta$ can I tune so that our loss evaluated over the entire dataset decreases?\". A larger gradient in those elements of $\\theta$ corresponds to the loss being more sensetive in those dimensions. As we continue to iterate and update $\\theta$ in this fashion, we are gauarnteed to reach the global minimum given that our function $J$ is convex. Even though our function may be highly non-convex, this approach is computationally efficient, and hence is used widely even in more complex settings such as Neural Networks, where there are no such gaurantees. \n",
    "\n",
    "For logistic regression, the gradient of $J$ is computed for you and shown below. For linear regression in the next part, it will be your job. \n",
    "\n",
    "$$\n",
    "\\begin{align}\n",
    "\\frac{\\delta J}{\\delta \\theta} &= \\frac{\\delta}{\\delta \\theta}\\Big(\\frac{1}{N}\\sum_{i=1}^{N}cost(h_{\\theta}(x_i),y_i)\\Big),\\\\\n",
    "&= \\frac{1}{N}\\sum_{i=1}^{N}\\frac{\\delta}{\\delta \\theta}cost(h_{\\theta}(x_i),y_i),\\\\\n",
    "\\end{align}\n",
    "$$\n",
    "\n",
    "where\n",
    "\n",
    "$$\n",
    "\\begin{align}\n",
    "\\frac{\\delta \\ cost(h_{\\theta}(x_i),y_i)}{\\delta \\theta} &= \\frac{\\delta}{\\delta \\theta}\\Big(-y log(h_{\\theta}(x)) - (1-y)log(1-h_{\\theta}(x))\\Big).\\\\\n",
    "\\end{align}\n",
    "$$\n",
    "\n",
    "Given that $\\frac{\\delta}{\\delta x}\\sigma(x) = \\sigma(x)(1-\\sigma(x))$ one can show:\n",
    "\n",
    "$$\n",
    "\\begin{align}\n",
    "\\frac{\\delta J}{\\delta \\theta[j]} &= \\frac{1}{N}\\sum_{i=1}^{N}\\big((h_{\\theta}(x_i)-y_i)x_i[j]\\big)\n",
    "\\end{align}\n",
    "$$\n",
    "\n",
    "Note the indexing over the elements of $\\theta$ which is needed when computing the gradient vector. The $j$ here denotes the dimension of $\\theta$ at which we are evaluating this partial derivative, and hence we use the $j$'th element of datasamples $x_i$ to weight our derivative. "
   ]
  },
  {
   "cell_type": "markdown",
   "metadata": {},
   "source": [
    "### Question 1: Implementing Logistic Regression - Gradient Descent\n",
    "\n",
    "Your task is to implement a Gradient Descent algorithm that utilizes this gradient to make updates to a given $\\theta$ for some pre-defined number of iterations. The I/O of the function \"GD\" below is provided for you, your task it to complete it. Note that the following cells will evaluate the algorithm, so it will be clear if your code is correct."
   ]
  },
  {
   "cell_type": "code",
   "execution_count": 12,
   "metadata": {},
   "outputs": [],
   "source": [
    "def GD(x, y, theta, lr, num_iters):\n",
    "    '''\n",
    "    Computes gradient descent to minimize the MSE\n",
    "    Inputs:\n",
    "        x         - np.array of MNIST images\n",
    "        y         - np.array representing the true labels\n",
    "        theta     - np.array of the parameter vector we want to learn (initial guess)\n",
    "        lr        - learning rate or step size \n",
    "        num_iters - number of steps we take\n",
    "    \n",
    "    Outputs:\n",
    "        theta     - np.array of the parameter vector (after GD)\n",
    "        loss      - np.array of the loss during each iteration of GD\n",
    "    '''\n",
    "    # you also want to store the computed loss as we iterate\n",
    "    loss = np.zeros(num_iters)\n",
    "\n",
    "    return loss, theta"
   ]
  },
  {
   "cell_type": "markdown",
   "metadata": {},
   "source": [
    "### Evaluating Logistic Regression\n",
    "\n",
    "Given our learned value of $\\theta^*$, we want to make some predictions on the unseen data in our test dataset. This is commonly used as a metric for classification problems, since testing on the same dataset you train on can give biased results. "
   ]
  },
  {
   "cell_type": "code",
   "execution_count": 13,
   "metadata": {},
   "outputs": [],
   "source": [
    "def predict(x, theta):\n",
    "    return np.round(sigmoid(np.dot(x.reshape(-1,28*28),theta)))"
   ]
  },
  {
   "cell_type": "markdown",
   "metadata": {},
   "source": [
    "Here we can test your gradient descent implementation. Is your loss improving (decreasing) as you iterate? "
   ]
  },
  {
   "cell_type": "code",
   "execution_count": 14,
   "metadata": {},
   "outputs": [
    {
     "name": "stdout",
     "output_type": "stream",
     "text": [
      "Initial Cost is: 11.808\n"
     ]
    },
    {
     "data": {
      "image/png": "[encoded data removed]",
      "text/plain": [
       "<Figure size 400x300 with 1 Axes>"
      ]
     },
     "metadata": {},
     "output_type": "display_data"
    }
   ],
   "source": [
    "x = data['x_train']\n",
    "y = data['y_train']\n",
    "\n",
    "num_iters = 100\n",
    "lr = 0.1\n",
    "theta = rng.random(28*28)\n",
    "print(\"Initial Cost is: %.3f\"%compute_loss(x, y, theta))\n",
    "\n",
    "loss, theta_star = GD(x, y, theta, lr, num_iters)\n",
    "\n",
    "fig, axs = plt.subplots(1,1,figsize=(FIG_WIDTH,FIG_HEIGHT))\n",
    "axs.plot(range(len(loss)), loss, 'ORANGE')\n",
    "plt.title(\"$J(\\\\theta)$\")\n",
    "plt.xlabel(\"Number of Iterations\")\n",
    "plt.ylabel(\"Loss\")\n",
    "plt.grid()\n",
    "plt.xlim(0,num_iters)\n",
    "plt.show()\n",
    "\n"
   ]
  },
  {
   "cell_type": "markdown",
   "metadata": {},
   "source": [
    "If the above plot of our loss fucntion looks like it has converged, we can see how our accuracy is on the test dataset. The solution should result in an accuracy of above 95%. We can also look at the some of the misclassified images to get a sense of what caused the classification errors. "
   ]
  },
  {
   "cell_type": "code",
   "execution_count": 15,
   "metadata": {},
   "outputs": [
    {
     "name": "stdout",
     "output_type": "stream",
     "text": [
      "Accuracy on test set: 40.300\n"
     ]
    },
    {
     "data": {
      "image/png": "[encoded data removed]",
      "text/plain": [
       "<Figure size 640x480 with 1 Axes>"
      ]
     },
     "metadata": {},
     "output_type": "display_data"
    }
   ],
   "source": [
    "x = data['x_test']\n",
    "y = data['y_test']\n",
    "\n",
    "y_predict = predict(x, theta_star)\n",
    "print(\"Accuracy on test set: %.3f\"%(np.mean(y_predict==y)*100))\n",
    "imshow_mnist(x[y_predict!=y][0:10],get_label(y[y_predict!=y][0:10]))"
   ]
  },
  {
   "cell_type": "markdown",
   "metadata": {},
   "source": [
    "## III. Linear Regression - Predicting Housing Prices\n",
    "\n",
    "Now that we have looked at logistic regression, you will implement a linear regression framework. A lot of the theory is the same here, but the main difference is in the cost function used to evaluate how close the predicted values are to the true ones. Remember that in linear regression, we are trying to estimate a continuous value, and hence we do not need to use a sigmoid in order to map our values to probabilities. Instead, we rely on the Mean Squared Error as our metric of cost, and sum this error over the whole dataset given a $\\theta$.\n",
    "\n",
    "$$\n",
    "J(\\theta) = \\frac{1}{2N}\\sum_{i=1}^{N}(\\theta^\\intercal x_i -y_i)^2,\n",
    "$$\n",
    "\n",
    "where the inner summation is the Mean Squared Error between the true value $y_i$, and our prediction $\\theta^\\intercal x_i$. \n",
    "\n",
    "Just like in the previous task, your job is to construct a linear regression framework using gradient descent by computing the gradient of the above loss function. You will be more or less on your own here, but a lot of the template has been provided as it is the same."
   ]
  },
  {
   "cell_type": "markdown",
   "metadata": {},
   "source": [
    "### Question 2: Data Processing - Housing\n",
    "The dataset we will work with is the USA housing dataset. Each row in the csv is a sample from the dataset, where the 'features' are the columns of $X$. The column labels are now provided, which should be the header used in your pandas dataframe: \n",
    "\n",
    "```\n",
    "Price,A. Income,A. House Age,A. Num Rooms,A. Num Bedrooms,A. Population\n",
    "```\n",
    "\n",
    "Your job is to learn some linear mapping $\\theta^\\intercal x$, that can estimate house prices (**column \"Price\" should not be used**). This is the standard linear regression setting. \n",
    "\n",
    "Your first task is to preprocess the data as before.\n",
    "\n",
    "Note that the features vary greatly in their distribution, since they are not just pixel values. The number of bedrooms is a good dictator of home price, but its magnitude is small compared to the average income in the neighberhood. Because of this, you want to normalize the individual features, so that they have the same weight. Also, since we want to account for a bias term (think of zero-intercept in 2-dimensions,) we can do this directly by injecting $1$ as the first feature of every data point $x$. Finally, since the Price is what we are trying to model, we do not need to normalize it. However, I suggest using units of $1M dollars for better clarity. "
   ]
  },
  {
   "cell_type": "code",
   "execution_count": 16,
   "metadata": {},
   "outputs": [
    {
     "name": "stdout",
     "output_type": "stream",
     "text": [
      "/home/mark/Documents/code/ml_tutorial/content/lab2\n"
     ]
    },
    {
     "data": {
      "text/html": [
       "<div>\n",
       "<style scoped>\n",
       "    .dataframe tbody tr th:only-of-type {\n",
       "        vertical-align: middle;\n",
       "    }\n",
       "\n",
       "    .dataframe tbody tr th {\n",
       "        vertical-align: top;\n",
       "    }\n",
       "\n",
       "    .dataframe thead th {\n",
       "        text-align: right;\n",
       "    }\n",
       "</style>\n",
       "<table border=\"1\" class=\"dataframe\">\n",
       "  <thead>\n",
       "    <tr style=\"text-align: right;\">\n",
       "      <th></th>\n",
       "      <th>Price</th>\n",
       "      <th>A. Income</th>\n",
       "      <th>A. House Age</th>\n",
       "      <th>A. Num Rooms</th>\n",
       "      <th>A. Num Bedrooms</th>\n",
       "      <th>A. Population</th>\n",
       "    </tr>\n",
       "  </thead>\n",
       "  <tbody>\n",
       "    <tr>\n",
       "      <th>0</th>\n",
       "      <td>1059033.5</td>\n",
       "      <td>79545.460</td>\n",
       "      <td>5.682861</td>\n",
       "      <td>7.009188</td>\n",
       "      <td>4.09</td>\n",
       "      <td>23086.800</td>\n",
       "    </tr>\n",
       "    <tr>\n",
       "      <th>1</th>\n",
       "      <td>1505890.9</td>\n",
       "      <td>79248.640</td>\n",
       "      <td>6.002900</td>\n",
       "      <td>6.730821</td>\n",
       "      <td>3.09</td>\n",
       "      <td>40173.070</td>\n",
       "    </tr>\n",
       "    <tr>\n",
       "      <th>2</th>\n",
       "      <td>1058988.0</td>\n",
       "      <td>61287.066</td>\n",
       "      <td>5.865890</td>\n",
       "      <td>8.512728</td>\n",
       "      <td>5.13</td>\n",
       "      <td>36882.160</td>\n",
       "    </tr>\n",
       "    <tr>\n",
       "      <th>3</th>\n",
       "      <td>1260616.8</td>\n",
       "      <td>63345.240</td>\n",
       "      <td>7.188236</td>\n",
       "      <td>5.586729</td>\n",
       "      <td>3.26</td>\n",
       "      <td>34310.242</td>\n",
       "    </tr>\n",
       "    <tr>\n",
       "      <th>4</th>\n",
       "      <td>630943.5</td>\n",
       "      <td>59982.195</td>\n",
       "      <td>5.040554</td>\n",
       "      <td>7.839388</td>\n",
       "      <td>4.23</td>\n",
       "      <td>26354.110</td>\n",
       "    </tr>\n",
       "  </tbody>\n",
       "</table>\n",
       "</div>"
      ],
      "text/plain": [
       "       Price  A. Income  A. House Age  A. Num Rooms  A. Num Bedrooms  \\\n",
       "0  1059033.5  79545.460      5.682861      7.009188             4.09   \n",
       "1  1505890.9  79248.640      6.002900      6.730821             3.09   \n",
       "2  1058988.0  61287.066      5.865890      8.512728             5.13   \n",
       "3  1260616.8  63345.240      7.188236      5.586729             3.26   \n",
       "4   630943.5  59982.195      5.040554      7.839388             4.23   \n",
       "\n",
       "   A. Population  \n",
       "0      23086.800  \n",
       "1      40173.070  \n",
       "2      36882.160  \n",
       "3      34310.242  \n",
       "4      26354.110  "
      ]
     },
     "execution_count": 16,
     "metadata": {},
     "output_type": "execute_result"
    }
   ],
   "source": [
    "cwd = os.getcwd()\n",
    "# display your current working directory\n",
    "print(cwd)\n",
    "# read in the mnist dataset\n",
    "housing_path = cwd + '/data/housing.csv'\n",
    "df = pd.read_csv(housing_path)\n",
    "df.head()"
   ]
  },
  {
   "cell_type": "markdown",
   "metadata": {},
   "source": [
    "### Question 3: Implementing Linear Regression - Derivation + Loss + Gradient Descent + Evaluation \n",
    "Once you have done your data processing, you should implement the Linear Regression algorithm by performing gradient descent on the loss described above. The process is near identical to the previous logistic regression part, as you should see after deriving the gradient. \n",
    "\n",
    "**Note 1**: You are also required to evaluate your model. Boilerplate code for plotting is provided, as well as some useful metrics that you need to compute. \n",
    "\n",
    "**Note 2**: As a bonus (optional), try to answer: \"Is GD required here? Can you derive a closed form solution? How does it compare to GD? (hint: they will be identical for this setting)\""
   ]
  },
  {
   "cell_type": "code",
   "execution_count": 17,
   "metadata": {},
   "outputs": [],
   "source": [
    "# your GD implementatio goes here (feel free to use more cells)"
   ]
  },
  {
   "cell_type": "markdown",
   "metadata": {},
   "source": [
    "### Evaluating Linear Regression\n",
    "\n",
    "Lets see how your algorithm preforms."
   ]
  },
  {
   "cell_type": "code",
   "execution_count": 18,
   "metadata": {},
   "outputs": [
    {
     "name": "stdout",
     "output_type": "stream",
     "text": [
      "Initial Cost is:\n"
     ]
    },
    {
     "data": {
      "image/png": "[encoded data removed]",
      "text/plain": [
       "<Figure size 400x300 with 1 Axes>"
      ]
     },
     "metadata": {},
     "output_type": "display_data"
    }
   ],
   "source": [
    "num_iters = 300\n",
    "lr = 0.5\n",
    "theta = rng.random(6)\n",
    "print(\"Initial Cost is:\")\n",
    "\n",
    "fig, axs = plt.subplots(1,1,figsize=(FIG_WIDTH,FIG_HEIGHT))\n",
    "axs.plot(range(num_iters), np.ones(num_iters), 'ORANGE')\n",
    "axs.set_xlim(0,num_iters)\n",
    "axs.grid()\n",
    "plt.title(\"$J(\\\\theta)$\")\n",
    "plt.xlabel(\"Number of Iterations\")\n",
    "plt.ylabel(\"Loss\")\n",
    "plt.show()\n",
    "\n"
   ]
  },
  {
   "cell_type": "markdown",
   "metadata": {},
   "source": [
    "As a final check, we can get a gauge of the quality of our predictions. Some useful metrics are:\n",
    "\n",
    "1) Mean Squared Error (MSE) - Averages the squared differences between predictions and true values.\n",
    "$$\n",
    "\\text{MSE} = \\frac{1}{n} \\sum_{i=1}^n \\bigl(y_i - \\hat{y}_i\\bigr)^2\n",
    "$$\n",
    "\n",
    "2) Root Mean Squared Error (RMSE) - The square root of MSE; converts the squared error to the same units.\n",
    "$$\n",
    "\\text{RMSE} = \\sqrt{\\frac{1}{n} \\sum_{i=1}^n \\bigl(y_i - \\hat{y}_i\\bigr)^2}\n",
    "$$\n",
    "\n",
    "3) Mean Absolute Error (MAE) - Averages the absolute differences between predictions and true values.\n",
    "$$\n",
    "\\text{MAE} = \\frac{1}{n} \\sum_{i=1}^n \\bigl|\\,y_i - \\hat{y}_i\\bigr|\n",
    "$$\n",
    "\n",
    "4) Coefficient of Determination (R^2) - Shows how much of the total variation is explained by our model.\n",
    "$$\n",
    "R^2 = 1 \\;-\\; \\frac{\\sum_{i=1}^{n}(y_i - \\hat{y}_i)^2}{\\sum_{i=1}^{n}(y_i - \\bar{y})^2},\n",
    "\\quad \\text{where} \\quad\n",
    "\\bar{y} = \\frac{1}{n}\\sum_{i=1}^n y_i.\n",
    "$$"
   ]
  },
  {
   "cell_type": "code",
   "execution_count": 19,
   "metadata": {},
   "outputs": [],
   "source": [
    "# compute the 4 metric above"
   ]
  }
 ],
 "metadata": {
  "kernelspec": {
   "display_name": "Python 3.9.19 ('.venv': venv)",
   "language": "python",
   "name": "python3"
  },
  "language_info": {
   "codemirror_mode": {
    "name": "ipython",
    "version": 3
   },
   "file_extension": ".py",
   "mimetype": "text/x-python",
   "name": "python",
   "nbconvert_exporter": "python",
   "pygments_lexer": "ipython3",
   "version": "3.9.19"
  },
  "metadata": {
   "interpreter": {
    "hash": "e14277392997ec7b8d0d4e1eacc6a12462d831e78f154a1c368aae24d965e9e8"
   }
  },
  "orig_nbformat": 2,
  "vscode": {
   "interpreter": {
    "hash": "3c298a6b474198d4f2a95d09a445852ca9cc03f9b965c6380c4df9c16413714d"
   }
  }
 },
 "nbformat": 4,
 "nbformat_minor": 2
}
